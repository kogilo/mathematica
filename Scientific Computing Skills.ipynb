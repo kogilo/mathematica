{
 "cells": [
  {
   "cell_type": "markdown",
   "metadata": {},
   "source": [
    "# Scientific Computing Skills: Introduction"
   ]
  },
  {
   "cell_type": "code",
   "execution_count": 1,
   "metadata": {},
   "outputs": [
    {
     "data": {
      "text/html": [
       "<div><img alt=\"Output\" src=\"data:image/png;base64,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\"></div>"
      ],
      "text/plain": [
       "Math #1"
      ]
     },
     "execution_count": 1,
     "metadata": {
      "text/html": [],
      "text/plain": []
     },
     "output_type": "execute_result"
    }
   ],
   "source": [
    "# Math"
   ]
  },
  {
   "cell_type": "code",
   "execution_count": 2,
   "metadata": {},
   "outputs": [
    {
     "data": {
      "text/html": [
       "<div><pre style=\"&#102;&#111;&#110;&#116;&#45;&#102;&#97;&#109;&#105;&#108;&#121;&#58;&#32;&#34;&#67;&#111;&#117;&#114;&#105;&#101;&#114;&#32;&#78;&#101;&#119;&#34;&#44;&#67;&#111;&#117;&#114;&#105;&#101;&#114;&#44;&#109;&#111;&#110;&#111;&#115;&#112;&#97;&#99;&#101;&#59;\">&#53;</pre></div>"
      ],
      "text/plain": [
       "5"
      ]
     },
     "execution_count": 2,
     "metadata": {
      "text/html": [],
      "text/plain": []
     },
     "output_type": "execute_result"
    }
   ],
   "source": [
    "2+3"
   ]
  },
  {
   "cell_type": "code",
   "execution_count": 3,
   "metadata": {},
   "outputs": [
    {
     "data": {
      "text/html": [
       "<div><pre style=\"&#102;&#111;&#110;&#116;&#45;&#102;&#97;&#109;&#105;&#108;&#121;&#58;&#32;&#34;&#67;&#111;&#117;&#114;&#105;&#101;&#114;&#32;&#78;&#101;&#119;&#34;&#44;&#67;&#111;&#117;&#114;&#105;&#101;&#114;&#44;&#109;&#111;&#110;&#111;&#115;&#112;&#97;&#99;&#101;&#59;\">&#51;</pre></div>"
      ],
      "text/plain": [
       "3"
      ]
     },
     "execution_count": 3,
     "metadata": {
      "text/html": [],
      "text/plain": []
     },
     "output_type": "execute_result"
    }
   ],
   "source": [
    "6/2"
   ]
  },
  {
   "cell_type": "code",
   "execution_count": 4,
   "metadata": {},
   "outputs": [
    {
     "data": {
      "text/html": [
       "<div><pre style=\"&#102;&#111;&#110;&#116;&#45;&#102;&#97;&#109;&#105;&#108;&#121;&#58;&#32;&#34;&#67;&#111;&#117;&#114;&#105;&#101;&#114;&#32;&#78;&#101;&#119;&#34;&#44;&#67;&#111;&#117;&#114;&#105;&#101;&#114;&#44;&#109;&#111;&#110;&#111;&#115;&#112;&#97;&#99;&#101;&#59;\">&#50;&#46;&#54;&#54;&#54;&#54;&#55;</pre></div>"
      ],
      "text/plain": [
       "2.66667"
      ]
     },
     "execution_count": 4,
     "metadata": {
      "text/html": [],
      "text/plain": []
     },
     "output_type": "execute_result"
    }
   ],
   "source": [
    "16./6"
   ]
  },
  {
   "cell_type": "code",
   "execution_count": 5,
   "metadata": {},
   "outputs": [
    {
     "data": {
      "text/html": [
       "<div><img alt=\"Output\" src=\"data:image/png;base64,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\"></div>"
      ],
      "text/plain": [
       "3\n",
       "--\n",
       "64"
      ]
     },
     "execution_count": 5,
     "metadata": {
      "text/html": [],
      "text/plain": []
     },
     "output_type": "execute_result"
    }
   ],
   "source": [
    "3/2^6"
   ]
  },
  {
   "cell_type": "code",
   "execution_count": 6,
   "metadata": {},
   "outputs": [
    {
     "data": {
      "text/html": [
       "<div><img alt=\"Output\" src=\"data:image/png;base64,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\"></div>"
      ],
      "text/plain": [
       "729\n",
       "---\n",
       "64"
      ]
     },
     "execution_count": 6,
     "metadata": {
      "text/html": [],
      "text/plain": []
     },
     "output_type": "execute_result"
    }
   ],
   "source": [
    "(3/2)^6"
   ]
  },
  {
   "cell_type": "markdown",
   "metadata": {},
   "source": [
    "# Commonly Used Numbers"
   ]
  },
  {
   "cell_type": "code",
   "execution_count": 7,
   "metadata": {},
   "outputs": [
    {
     "data": {
      "text/html": [
       "<div><img alt=\"Output\" src=\"data:image/png;base64,iVBORw0KGgoAAAANSUhEUgAAABAAAAAiCAIAAADZI86QAAAAq3pUWHRSYXcgcHJvZmlsZSB0eXBlIGV4aWYAAHjaVU7bDQMhDPtnio6QFw6Mg+5A6gYdv+buVKkG4sRKgsv8vFd5bai1EjUbOiBE9Og2mDS54bwqKkaOR7IfX7o+erlXiNhoTbaod73auvCslPA0VGgGY5hkojNvzBhRi0lNLBwAGxWnSRzkiUyOIVFNfOzBDZv53z3hrE86cnPadPVx8eDjf77PoLqV6nRdviJxOxplawcyAAAACXBIWXMAABYlAAAWJQFJUiTwAAAAPHRFWHRTb2Z0d2FyZQBDcmVhdGVkIHdpdGggdGhlIFdvbGZyYW0gTGFuZ3VhZ2UgOiB3d3cud29sZnJhbS5jb21coqaFAAAAIXRFWHRDcmVhdGlvbiBUaW1lADIwMjE6MDI6MjQgMDA6MTI6NTb50aevAAABV0lEQVQ4je2UsaqCUBzG/4niUIRbS9DS4FYgDkLRG7RES6NQhPgILdEjSHPg7OoaCBWIQw4GIT6BUtAgiJSnwThpdbkE925+yzn/73w/Dt8ZTgkhBN+I+CpdAAXwhwCZLsPhMAzDX9Oj0YgEAIQQz/O32w0A1uu1YRjz+TxNJEkym80GgwHHcQDAsiygvMbjsSAIePQ8DwC22y12XjtsNptut4vH/X5PEESr1fpc+nQ6HY/HTqeDHcdxms1muVz+DGiaRlFU9gbf9+v1ejaTA1RV7ff7DMNg53w+12q1bIbEu8PhsNvtdF3PHl8ul0ajkWuZdo+iqN1usyx7vV6zjzaZTHq9XtZ5ANPplKZp27ZfXllRlGq1GkXRE4jjWBRFAFgul+hNruuSJLlYLJ6ALMs0Ta9Wq/d0KkmSKpVKGIYPwHVd0zR/SiOEgiCwLAuPJVR8lf8A3AEFzTAthFkJBgAAAABJRU5ErkJggg==\"></div>"
      ],
      "text/plain": [
       "Pi"
      ]
     },
     "execution_count": 7,
     "metadata": {
      "text/html": [],
      "text/plain": []
     },
     "output_type": "execute_result"
    }
   ],
   "source": [
    "Pi"
   ]
  },
  {
   "cell_type": "code",
   "execution_count": 8,
   "metadata": {},
   "outputs": [
    {
     "data": {
      "text/html": [
       "<div><img alt=\"Output\" src=\"data:image/png;base64,iVBORw0KGgoAAAANSUhEUgAAABAAAAAiCAIAAADZI86QAAAAq3pUWHRSYXcgcHJvZmlsZSB0eXBlIGV4aWYAAHjaVU7bDQMhDPtnio6QFw6Mg+5A6gYdv+buVKkG7MRKQsr8vFd5bai1EjUbOiBE9Og2GDS54bwqKkaNx7KfXr4+frlHiNhoTbapd77auvCMlPA0VGgGOUwy0Rk3RmTUYlITCwfAQsVpEgd1IpNtSFQTH7txw2b+V08485MbuTnXdPVx6eDjf77PoOvk8M7CLyKBOx09m4DaAAAACXBIWXMAABYlAAAWJQFJUiTwAAAAPHRFWHRTb2Z0d2FyZQBDcmVhdGVkIHdpdGggdGhlIFdvbGZyYW0gTGFuZ3VhZ2UgOiB3d3cud29sZnJhbS5jb21coqaFAAAAIXRFWHRDcmVhdGlvbiBUaW1lADIwMjE6MDI6MjQgMDA6MTM6NDnIyewaAAABj0lEQVQ4je2Uz8sBQRjHn1nSXkhaSY2DiBQ5EX+CmyJX5WjLhaub/4SSmxwkB9xE7WUL5Saby1y2/L54HHj33d16k3oPDj6nmen5zMzzrRmCiPAO3FvVX+Er/KNgNc0nk8loNJJl+Xq9RiKRZDJZKBQ4Trcv/rDb7fL5vLbu9XrT6TTHcYlEQpZlrewpHI/HaDTqcrlEUSSEVCqV8/mMiKvVKh6PU0oZYwahXC7bbDZJkhwORyaTQR2MMUEQisXir3C73dxutyiKkiQBQLvdRiP1et3n8z3GVgBYLBaMsWw2O51OAWA2my2XS30S8/lcUZTL5cLzvBUA9vs9AHg8nsFgAACKopiis9vtuVzOYrE8U1JVlRDS6XSazSYh5HQ64d88mw6FQqlUar1eA0Cr1Xot9Ho9ACiVSpTSYDCohfjgcDh0u12DgIi1Wk27dCwWG4/HqqoOh8Nqtep0Onme32w2BgER+/2+3+83dUwpbTQa2pkEjT8fIm6320fQgUAgHA4LgqAvMAsv+cAH9IHCHWeWXsoSYNt8AAAAAElFTkSuQmCC\"></div>"
      ],
      "text/plain": [
       "E"
      ]
     },
     "execution_count": 8,
     "metadata": {
      "text/html": [],
      "text/plain": []
     },
     "output_type": "execute_result"
    }
   ],
   "source": [
    "E"
   ]
  },
  {
   "cell_type": "code",
   "execution_count": 9,
   "metadata": {},
   "outputs": [
    {
     "data": {
      "text/html": [
       "<div><pre style=\"&#102;&#111;&#110;&#116;&#45;&#102;&#97;&#109;&#105;&#108;&#121;&#58;&#32;&#34;&#67;&#111;&#117;&#114;&#105;&#101;&#114;&#32;&#78;&#101;&#119;&#34;&#44;&#67;&#111;&#117;&#114;&#105;&#101;&#114;&#44;&#109;&#111;&#110;&#111;&#115;&#112;&#97;&#99;&#101;&#59;\">&#50;&#46;&#55;&#49;&#56;&#50;&#56;</pre></div>"
      ],
      "text/plain": [
       "2.71828"
      ]
     },
     "execution_count": 9,
     "metadata": {
      "text/html": [],
      "text/plain": []
     },
     "output_type": "execute_result"
    }
   ],
   "source": [
    "E^1."
   ]
  },
  {
   "cell_type": "code",
   "execution_count": 10,
   "metadata": {},
   "outputs": [
    {
     "data": {
      "text/html": [
       "<div><img alt=\"Output\" src=\"data:image/png;base64,iVBORw0KGgoAAAANSUhEUgAAABAAAAAiCAIAAADZI86QAAAAqnpUWHRSYXcgcHJvZmlsZSB0eXBlIGV4aWYAAHjaVU7bDQMhDPtnio6QFw6Mg+5A6gYdv+buVKkG7MRKQsr8vFd5bai1EjUbOiBE9Og2GDS54bwqKkaNx7KfXr4+frlHiNhoTbapd77auvCMlPA0VGgGOUwy0Rk3RmTUYlITCwfAQsVpEgd1IpNtSFQTH7txw2b+V08485MbuTnXdPVx6eDjf77PoIubWfgFIoE7GkVeVIgAAAAJcEhZcwAAFiUAABYlAUlSJPAAAAA8dEVYdFNvZnR3YXJlAENyZWF0ZWQgd2l0aCB0aGUgV29sZnJhbSBMYW5ndWFnZSA6IHd3dy53b2xmcmFtLmNvbVyipoUAAAAhdEVYdENyZWF0aW9uIFRpbWUAMjAyMTowMjoyNCAwMDoxNjoxNhLf9fwAAADGSURBVDiN7ZKxCYRAEEW/y3VgE7KBYCQIlmBiIcLmtmIZsj1oImaGCyKLsFrCGHjHHa4HepyZP5z5jxlmvkNEOCN2yn0DvwPzPBdFUZblPkGW6roGEIah3SKi0ys97JLrummaep63CziXZ+m9khCi67rPXhRFeZ5/nRAEQRzHnHMpJefcGFNV1c6IzdWUUgCUUlmWJUnyh7PewBE9Pz2O4zAMAPq+B9C2rdZ6mqamaVaD7/uMMeD1ODsCG2mtV+f1ab2BI1oApJSWnB4tsYoAAAAASUVORK5CYII=\"></div>"
      ],
      "text/plain": [
       "I"
      ]
     },
     "execution_count": 10,
     "metadata": {
      "text/html": [],
      "text/plain": []
     },
     "output_type": "execute_result"
    }
   ],
   "source": [
    "I"
   ]
  },
  {
   "cell_type": "code",
   "execution_count": 11,
   "metadata": {},
   "outputs": [
    {
     "data": {
      "text/html": [
       "<div><pre style=\"&#102;&#111;&#110;&#116;&#45;&#102;&#97;&#109;&#105;&#108;&#121;&#58;&#32;&#34;&#67;&#111;&#117;&#114;&#105;&#101;&#114;&#32;&#78;&#101;&#119;&#34;&#44;&#67;&#111;&#117;&#114;&#105;&#101;&#114;&#44;&#109;&#111;&#110;&#111;&#115;&#112;&#97;&#99;&#101;&#59;\">&#45;&#49;</pre></div>"
      ],
      "text/plain": [
       "-1"
      ]
     },
     "execution_count": 11,
     "metadata": {
      "text/html": [],
      "text/plain": []
     },
     "output_type": "execute_result"
    }
   ],
   "source": [
    "I^2"
   ]
  },
  {
   "attachments": {},
   "cell_type": "markdown",
   "metadata": {},
   "source": [
    "# Predefined user functions"
   ]
  },
  {
   "cell_type": "code",
   "execution_count": 12,
   "metadata": {},
   "outputs": [
    {
     "data": {
      "text/html": [
       "<div><pre style=\"&#102;&#111;&#110;&#116;&#45;&#102;&#97;&#109;&#105;&#108;&#121;&#58;&#32;&#34;&#67;&#111;&#117;&#114;&#105;&#101;&#114;&#32;&#78;&#101;&#119;&#34;&#44;&#67;&#111;&#117;&#114;&#105;&#101;&#114;&#44;&#109;&#111;&#110;&#111;&#115;&#112;&#97;&#99;&#101;&#59;\">&#53;</pre></div>"
      ],
      "text/plain": [
       "5"
      ]
     },
     "execution_count": 12,
     "metadata": {
      "text/html": [],
      "text/plain": []
     },
     "output_type": "execute_result"
    }
   ],
   "source": [
    "Abs[-5]"
   ]
  },
  {
   "cell_type": "code",
   "execution_count": 13,
   "metadata": {},
   "outputs": [
    {
     "data": {
      "text/html": [
       "<div><img alt=\"Output\" src=\"data:image/png;base64,iVBORw0KGgoAAAANSUhEUgAAAC4AAAAkCAIAAAB5QJ8GAAAAq3pUWHRSYXcgcHJvZmlsZSB0eXBlIGV4aWYAAHjaVU5bDsMgDPvnFDtCXjj0OKgFaTfY8WdoNWkG4sR5kDI+71leC2qtRM2GAxAijjis02lyw3lVVIwcj2Q/3ro+erlHiFhvTZaodzzb3HhGSngaKjSDNkwycdBv9GhRi0lNTJwACxWXSZzkgUy2IVFNvK/GBRv5Xz3gjC9u5OZc09X75s7H/3ydvnOducrCLyJNOxTByl9aAAAACXBIWXMAABYlAAAWJQFJUiTwAAAAPHRFWHRTb2Z0d2FyZQBDcmVhdGVkIHdpdGggdGhlIFdvbGZyYW0gTGFuZ3VhZ2UgOiB3d3cud29sZnJhbS5jb21coqaFAAAAIXRFWHRDcmVhdGlvbiBUaW1lADIwMjE6MDI6MjQgMDA6MjA6MTXpHYFKAAADIklEQVRYhe2YzUsqURjG34lrm4iKNCyJPiArgpGWUVG0yJ0gfdC4y0XUov6AoFVge0voYyMELVq0rGjTKIjRxvzAmik0ZDYWBQZmGc57FwPdGm1mdBRb3Gc18/Cc19/hzHnPOAQiwu9QTbUB/ukXofxRX8JisXAcV1NT9Kz29vYGBwfLhsLzfCKRuLq6UlkH1C9QMBg0mUzqOcqA4vF4xsfHy0GiGoWm6bGxseqjIGI8Hu/u7q4+SigUIkmyLBxqUTwej8TqPD8/RyKRTCajtByqkNVqvb29FZkMw9jt9r6+PoIgAIAgCKPRuL+/z/O8dLXSUXieJ0lSZB4eHtbX1wuTrK2tbWho+JzzwsJCpVDC4bDNZvvq+P1+4VeHhoaOj4/T6TQisiw7MTEh+CcnJxVB2dzc3NnZEZkbGxvLy8vZbParmUql9Ho9ACwtLVUEZXp6+ubmRmGYoigAGB4elsiUvoNYlu3t7VUYfnh4AACtViuRKRElGo329/crDGcyGZ/PBwAjIyNFo6TTaYfD8fT09NMwmqaVHz3r6+tvb28ajcZisUjlRAuWzWZdLldra2tPT8/KyspP6zo7OxuNRpU8JTRNC68ya2tr0kkxyujoqNlsDgQCj4+PWq327u6u4LD8jlJQsVjMYDAAwMDAwPv7e3EoyWTy89rhcMzMzOSPub6+LuiLdH9/39HRAQBtbW3xeFw2L7WZX19f29vb/X6/yN/e3na5XNJ1E4lEV1cXADQ1NUUiEVkOGRREdLvd+c1gbm5OujrDMJ2dnQDQ2Nh4cXGhhEMeJZfLmUymo6OjryZJkhJn2+XlpdA/WlpaAoGAQg55FEQ8OzszGo0fHx/CLcMwU1NTP4VPT0/r6uoAQKfT0TQdi8XY7+I4rnQURDSbzVtbW8L17u6u0+ksGAuHwxqNRrrHTE5OqkIJBoN6vT6VSiGizWYLhUIFY16vV7bdqUVBxPn5+dXVVZR7UNRIKQrHcc3Nzefn51artRIcqPxkNhgMi4uLFEWV669GASmnfnl50el0Re3PolTcq9PBwUEul6sQCoH/P/Xk6xeh/AUdt8brSoJ2AAAAAABJRU5ErkJggg==\"></div>"
      ],
      "text/plain": [
       "Sqrt[2]"
      ]
     },
     "execution_count": 13,
     "metadata": {
      "text/html": [],
      "text/plain": []
     },
     "output_type": "execute_result"
    }
   ],
   "source": [
    "Sqrt[2]"
   ]
  },
  {
   "cell_type": "code",
   "execution_count": 14,
   "metadata": {},
   "outputs": [
    {
     "data": {
      "text/html": [
       "<div><pre style=\"&#102;&#111;&#110;&#116;&#45;&#102;&#97;&#109;&#105;&#108;&#121;&#58;&#32;&#34;&#67;&#111;&#117;&#114;&#105;&#101;&#114;&#32;&#78;&#101;&#119;&#34;&#44;&#67;&#111;&#117;&#114;&#105;&#101;&#114;&#44;&#109;&#111;&#110;&#111;&#115;&#112;&#97;&#99;&#101;&#59;\">&#49;&#46;&#52;&#49;&#52;&#50;&#49;</pre></div>"
      ],
      "text/plain": [
       "1.41421"
      ]
     },
     "execution_count": 14,
     "metadata": {
      "text/html": [],
      "text/plain": []
     },
     "output_type": "execute_result"
    }
   ],
   "source": [
    "Sqrt[2.]"
   ]
  },
  {
   "cell_type": "code",
   "execution_count": 15,
   "metadata": {},
   "outputs": [
    {
     "data": {
      "text/html": [
       "<div><pre style=\"&#102;&#111;&#110;&#116;&#45;&#102;&#97;&#109;&#105;&#108;&#121;&#58;&#32;&#34;&#67;&#111;&#117;&#114;&#105;&#101;&#114;&#32;&#78;&#101;&#119;&#34;&#44;&#67;&#111;&#117;&#114;&#105;&#101;&#114;&#44;&#109;&#111;&#110;&#111;&#115;&#112;&#97;&#99;&#101;&#59;\">&#49;</pre></div>"
      ],
      "text/plain": [
       "1"
      ]
     },
     "execution_count": 15,
     "metadata": {
      "text/html": [],
      "text/plain": []
     },
     "output_type": "execute_result"
    }
   ],
   "source": [
    "Log[E]"
   ]
  },
  {
   "cell_type": "markdown",
   "metadata": {},
   "source": [
    "# Log base 10\n"
   ]
  },
  {
   "cell_type": "code",
   "execution_count": 20,
   "metadata": {},
   "outputs": [
    {
     "data": {
      "text/html": [
       "<div><pre style=\"&#102;&#111;&#110;&#116;&#45;&#102;&#97;&#109;&#105;&#108;&#121;&#58;&#32;&#34;&#67;&#111;&#117;&#114;&#105;&#101;&#114;&#32;&#78;&#101;&#119;&#34;&#44;&#67;&#111;&#117;&#114;&#105;&#101;&#114;&#44;&#109;&#111;&#110;&#111;&#115;&#112;&#97;&#99;&#101;&#59;\">&#50;</pre></div>"
      ],
      "text/plain": [
       "2"
      ]
     },
     "execution_count": 20,
     "metadata": {
      "text/html": [],
      "text/plain": []
     },
     "output_type": "execute_result"
    }
   ],
   "source": [
    "Log10[100]"
   ]
  },
  {
   "cell_type": "code",
   "execution_count": 21,
   "metadata": {},
   "outputs": [
    {
     "data": {
      "text/html": [
       "<div><pre style=\"&#102;&#111;&#110;&#116;&#45;&#102;&#97;&#109;&#105;&#108;&#121;&#58;&#32;&#34;&#67;&#111;&#117;&#114;&#105;&#101;&#114;&#32;&#78;&#101;&#119;&#34;&#44;&#67;&#111;&#117;&#114;&#105;&#101;&#114;&#44;&#109;&#111;&#110;&#111;&#115;&#112;&#97;&#99;&#101;&#59;\">&#51;</pre></div>"
      ],
      "text/plain": [
       "3"
      ]
     },
     "execution_count": 21,
     "metadata": {
      "text/html": [],
      "text/plain": []
     },
     "output_type": "execute_result"
    }
   ],
   "source": [
    "Log[2,8]"
   ]
  },
  {
   "cell_type": "code",
   "execution_count": 22,
   "metadata": {},
   "outputs": [
    {
     "data": {
      "text/html": [
       "<div><pre style=\"&#102;&#111;&#110;&#116;&#45;&#102;&#97;&#109;&#105;&#108;&#121;&#58;&#32;&#34;&#67;&#111;&#117;&#114;&#105;&#101;&#114;&#32;&#78;&#101;&#119;&#34;&#44;&#67;&#111;&#117;&#114;&#105;&#101;&#114;&#44;&#109;&#111;&#110;&#111;&#115;&#112;&#97;&#99;&#101;&#59;\">&#48;</pre></div>"
      ],
      "text/plain": [
       "0"
      ]
     },
     "execution_count": 22,
     "metadata": {
      "text/html": [],
      "text/plain": []
     },
     "output_type": "execute_result"
    }
   ],
   "source": [
    "Sin[Pi]"
   ]
  },
  {
   "cell_type": "code",
   "execution_count": 23,
   "metadata": {},
   "outputs": [
    {
     "data": {
      "text/html": [
       "<div><pre style=\"&#102;&#111;&#110;&#116;&#45;&#102;&#97;&#109;&#105;&#108;&#121;&#58;&#32;&#34;&#67;&#111;&#117;&#114;&#105;&#101;&#114;&#32;&#78;&#101;&#119;&#34;&#44;&#67;&#111;&#117;&#114;&#105;&#101;&#114;&#44;&#109;&#111;&#110;&#111;&#115;&#112;&#97;&#99;&#101;&#59;\">&#45;&#49;</pre></div>"
      ],
      "text/plain": [
       "-1"
      ]
     },
     "execution_count": 23,
     "metadata": {
      "text/html": [],
      "text/plain": []
     },
     "output_type": "execute_result"
    }
   ],
   "source": [
    "Cos[Pi]"
   ]
  },
  {
   "cell_type": "code",
   "execution_count": 24,
   "metadata": {},
   "outputs": [
    {
     "data": {
      "text/html": [
       "<div><img alt=\"Output\" src=\"data:image/png;base64,iVBORw0KGgoAAAANSUhEUgAAABAAAAAiCAIAAADZI86QAAAAqnpUWHRSYXcgcHJvZmlsZSB0eXBlIGV4aWYAAHjaVU7bDQMhDPtnio6QFw43DroDqRt0/BruVKkGYsdKQsr4vGd5Lai1EjUbDkCIOOKwTtHkhvOqqBg5Hst+vH19/HKPELHemixT73y2ufGMlPA0VGgGY5hk4qBuVIyoxaQmJk6AhYrLJE7yQCbbkKgm3lfjgo38rx5w5hc3cnOu6ep9c+fjf77O0nVHblm+InU7FpOgb84AAAAJcEhZcwAAFiUAABYlAUlSJPAAAAA8dEVYdFNvZnR3YXJlAENyZWF0ZWQgd2l0aCB0aGUgV29sZnJhbSBMYW5ndWFnZSA6IHd3dy53b2xmcmFtLmNvbVyipoUAAAAhdEVYdENyZWF0aW9uIFRpbWUAMjAyMTowMjoyNCAwMDoyNToyMfKD5qIAAAFXSURBVDiN7ZSxqoJQHMb/ieJQhFtL0NLgViAOQtEbtERLo1CE+Agt0SNIc+Ds6hoIFYhDDgYhPoFS0CCIlKfBOGl1uQT3bn7LOf/vfD8O3xlOCSEE34j4Kl0ABfCHAJkuw+EwDMNf06PRiAQAhBDP87fbDQDW67VhGPP5PE0kSTKbzQaDAcdxAMCyLKC8xuOxIAh49DwPALbbLXZeO2w2m263i8f9fk8QRKvV+lz6dDodj8dOp4Mdx3GazWa5XP4MaJpGUVT2Bt/36/V6NpMDVFXt9/sMw2DnfD7XarVshsS7w+Gw2+10Xc8eXy6XRqORa5l2j6Ko3W6zLHu9XrOPNplMer1e1nkA0+mUpmnbtl9eWVGUarUaRdETiONYFEUAWC6X6E2u65IkuVgsnoAsyzRNr1ar93QqSZIqlUoYhg/AdV3TNH9KI4SCILAsC48lVHyV/wDcAQXNMC2EWQkGAAAAAElFTkSuQmCC\"></div>"
      ],
      "text/plain": [
       "Pi"
      ]
     },
     "execution_count": 24,
     "metadata": {
      "text/html": [],
      "text/plain": []
     },
     "output_type": "execute_result"
    }
   ],
   "source": [
    "ArcCos[-1]"
   ]
  },
  {
   "cell_type": "code",
   "execution_count": 25,
   "metadata": {},
   "outputs": [
    {
     "data": {
      "text/html": [
       "<div><pre style=\"&#102;&#111;&#110;&#116;&#45;&#102;&#97;&#109;&#105;&#108;&#121;&#58;&#32;&#34;&#67;&#111;&#117;&#114;&#105;&#101;&#114;&#32;&#78;&#101;&#119;&#34;&#44;&#67;&#111;&#117;&#114;&#105;&#101;&#114;&#44;&#109;&#111;&#110;&#111;&#115;&#112;&#97;&#99;&#101;&#59;\">&#51;&#46;&#49;&#52;&#49;&#53;&#57;</pre></div>"
      ],
      "text/plain": [
       "3.14159"
      ]
     },
     "execution_count": 25,
     "metadata": {
      "text/html": [],
      "text/plain": []
     },
     "output_type": "execute_result"
    }
   ],
   "source": [
    "N[Pi]"
   ]
  },
  {
   "cell_type": "code",
   "execution_count": 27,
   "metadata": {},
   "outputs": [
    {
     "data": {
      "text/html": [
       "<div><pre style=\"&#102;&#111;&#110;&#116;&#45;&#102;&#97;&#109;&#105;&#108;&#121;&#58;&#32;&#34;&#67;&#111;&#117;&#114;&#105;&#101;&#114;&#32;&#78;&#101;&#119;&#34;&#44;&#67;&#111;&#117;&#114;&#105;&#101;&#114;&#44;&#109;&#111;&#110;&#111;&#115;&#112;&#97;&#99;&#101;&#59;\">&#51;&#46;&#49;&#52;&#49;&#53;&#57;&#50;&#54;&#53;&#51;&#53;&#56;&#57;&#55;&#57;&#51;&#50;&#51;&#56;&#52;&#54;&#50;&#54;&#52;&#51;&#51;&#56;&#51;&#50;&#55;&#57;&#53;&#48;&#50;&#56;&#56;&#52;&#49;&#57;&#55;&#49;&#54;&#57;&#51;&#57;&#57;&#51;&#55;&#53;&#49;</pre></div>"
      ],
      "text/plain": [
       "3.1415926535897932384626433832795028841971693993751"
      ]
     },
     "execution_count": 27,
     "metadata": {
      "text/html": [],
      "text/plain": []
     },
     "output_type": "execute_result"
    }
   ],
   "source": [
    "N[Pi, 50]"
   ]
  },
  {
   "cell_type": "code",
   "execution_count": 28,
   "metadata": {},
   "outputs": [
    {
     "data": {
      "text/html": [
       "<div><pre style=\"&#102;&#111;&#110;&#116;&#45;&#102;&#97;&#109;&#105;&#108;&#121;&#58;&#32;&#34;&#67;&#111;&#117;&#114;&#105;&#101;&#114;&#32;&#78;&#101;&#119;&#34;&#44;&#67;&#111;&#117;&#114;&#105;&#101;&#114;&#44;&#109;&#111;&#110;&#111;&#115;&#112;&#97;&#99;&#101;&#59;\">&#49;&#46;&#52;&#49;&#52;&#50;&#49;&#51;&#54;</pre></div>"
      ],
      "text/plain": [
       "1.4142136"
      ]
     },
     "execution_count": 28,
     "metadata": {
      "text/html": [],
      "text/plain": []
     },
     "output_type": "execute_result"
    }
   ],
   "source": [
    "N[Sqrt[2], 8]"
   ]
  },
  {
   "cell_type": "code",
   "execution_count": 29,
   "metadata": {},
   "outputs": [
    {
     "data": {
      "text/html": [
       "<div><pre style=\"&#102;&#111;&#110;&#116;&#45;&#102;&#97;&#109;&#105;&#108;&#121;&#58;&#32;&#34;&#67;&#111;&#117;&#114;&#105;&#101;&#114;&#32;&#78;&#101;&#119;&#34;&#44;&#67;&#111;&#117;&#114;&#105;&#101;&#114;&#44;&#109;&#111;&#110;&#111;&#115;&#112;&#97;&#99;&#101;&#59;\">&#49;&#46;&#52;&#49;&#52;&#50;&#49;</pre></div>"
      ],
      "text/plain": [
       "1.41421"
      ]
     },
     "execution_count": 29,
     "metadata": {
      "text/html": [],
      "text/plain": []
     },
     "output_type": "execute_result"
    }
   ],
   "source": [
    "Sqrt[2] //N"
   ]
  },
  {
   "cell_type": "code",
   "execution_count": 30,
   "metadata": {},
   "outputs": [
    {
     "data": {
      "text/html": [
       "<div><pre style=\"&#102;&#111;&#110;&#116;&#45;&#102;&#97;&#109;&#105;&#108;&#121;&#58;&#32;&#34;&#67;&#111;&#117;&#114;&#105;&#101;&#114;&#32;&#78;&#101;&#119;&#34;&#44;&#67;&#111;&#117;&#114;&#105;&#101;&#114;&#44;&#109;&#111;&#110;&#111;&#115;&#112;&#97;&#99;&#101;&#59;\">&#49;&#52;&#46;&#49;&#52;&#50;&#49;</pre></div>"
      ],
      "text/plain": [
       "14.1421"
      ]
     },
     "execution_count": 30,
     "metadata": {
      "text/html": [],
      "text/plain": []
     },
     "output_type": "execute_result"
    }
   ],
   "source": [
    "%*10"
   ]
  },
  {
   "cell_type": "code",
   "execution_count": 31,
   "metadata": {},
   "outputs": [
    {
     "data": {
      "text/html": [
       "<div><pre style=\"&#102;&#111;&#110;&#116;&#45;&#102;&#97;&#109;&#105;&#108;&#121;&#58;&#32;&#34;&#67;&#111;&#117;&#114;&#105;&#101;&#114;&#32;&#78;&#101;&#119;&#34;&#44;&#67;&#111;&#117;&#114;&#105;&#101;&#114;&#44;&#109;&#111;&#110;&#111;&#115;&#112;&#97;&#99;&#101;&#59;\">&#49;&#52;&#49;&#46;&#52;&#50;&#49;</pre></div>"
      ],
      "text/plain": [
       "141.421"
      ]
     },
     "execution_count": 31,
     "metadata": {
      "text/html": [],
      "text/plain": []
     },
     "output_type": "execute_result"
    }
   ],
   "source": [
    "%*10"
   ]
  },
  {
   "cell_type": "code",
   "execution_count": 32,
   "metadata": {},
   "outputs": [
    {
     "data": {
      "text/html": [
       "<div><pre style=\"&#102;&#111;&#110;&#116;&#45;&#102;&#97;&#109;&#105;&#108;&#121;&#58;&#32;&#34;&#67;&#111;&#117;&#114;&#105;&#101;&#114;&#32;&#78;&#101;&#119;&#34;&#44;&#67;&#111;&#117;&#114;&#105;&#101;&#114;&#44;&#109;&#111;&#110;&#111;&#115;&#112;&#97;&#99;&#101;&#59;\">&#49;&#52;&#49;&#52;&#50;&#46;&#49;</pre></div>"
      ],
      "text/plain": [
       "14142.1"
      ]
     },
     "execution_count": 32,
     "metadata": {
      "text/html": [],
      "text/plain": []
     },
     "output_type": "execute_result"
    }
   ],
   "source": [
    "%%*1000"
   ]
  },
  {
   "cell_type": "code",
   "execution_count": 33,
   "metadata": {},
   "outputs": [
    {
     "data": {
      "text/html": [
       "<div><img alt=\"Output\" src=\"data:image/png;base64,iVBORw0KGgoAAAANSUhEUgAAAC4AAAAkCAIAAAB5QJ8GAAAArHpUWHRSYXcgcHJvZmlsZSB0eXBlIGV4aWYAAHjaVU7bDQMhDPtnio6QFw6Mg+5A6gYdv+buVKkG7MRKQsr8vFd5bai1EjUbOiBE9Og2GDS54bwqKkaNx7KfXr4+frlHiNhoTbapd77auvCMlPA0VGgGOUwy0Rk3RmTUYlITCwfAQsVpEgd1IpNtSFQTH7txw2b+V08485MbuTnXdPVx6eDjf77P8HAnq3Pr8gUihzsadkqBzwAAAAlwSFlzAAAWJQAAFiUBSVIk8AAAADx0RVh0U29mdHdhcmUAQ3JlYXRlZCB3aXRoIHRoZSBXb2xmcmFtIExhbmd1YWdlIDogd3d3LndvbGZyYW0uY29tXKKmhQAAACF0RVh0Q3JlYXRpb24gVGltZQAyMDIxOjAyOjI0IDAwOjQzOjE27eGKvgAAAyJJREFUWIXtmM1LKlEYxt+Ja5uIijQsiT4gK4KRllFRtMidIH3QuMtF1KL+gKBVYHtL6GMjBC1atKxo0yiI0cb8wJopNGQ2FgUGZhnOexcD3RptZnQUW9xnNfPwnNff4cx5zzgEIsLvUE21Af7pF6H8UV/CYrFwHFdTU/Ss9vb2BgcHy4bC83wikbi6ulJZB9QvUDAYNJlM6jnKgOLxeMbHx8tBohqFpumxsbHqoyBiPB7v7u6uPkooFCJJsiwcalE8Ho/E6jw/P0cikUwmo7QcqpDVar29vRWZDMPY7fa+vj6CIACAIAij0bi/v8/zvHS10lF4nidJUmQeHh7W19cLk6ytrW1oaPic88LCQqVQwuGwzWb76vj9fuFXh4aGjo+P0+k0IrIsOzExIfgnJycVQdnc3NzZ2RGZGxsby8vL2Wz2q5lKpfR6PQAsLS1VBGV6evrm5kZhmKIoABgeHpbIlL6DWJbt7e1VGH54eAAArVYrkSkRJRqN9vf3KwxnMhmfzwcAIyMjRaOk02mHw/H09PTTMJqmlR896+vrb29vGo3GYrFI5UQLls1mXS5Xa2trT0/PysrKT+s6OzsbjUaVPCU0TQuvMmtra9JJMcro6KjZbA4EAo+Pj1qt9u7uruCw/I5SULFYzGAwAMDAwMD7+3txKMlk8vPa4XDMzMzkj7m+vi7oi3R/f9/R0QEAbW1t8XhcNi+1mV9fX9vb2/1+v8jf3t52uVzSdROJRFdXFwA0NTVFIhFZDhkURHS73fnNYG5uTro6wzCdnZ0A0NjYeHFxoYRDHiWXy5lMpqOjo68mSZISZ9vl5aXQP1paWgKBgEIOeRREPDs7MxqNHx8fwi3DMFNTUz+FT09P6+rqAECn09E0HYvF2O/iOK50FEQ0m81bW1vC9e7urtPpLBgLh8MajUa6x0xOTqpCCQaDer0+lUohos1mC4VCBWNer1e23alFQcT5+fnV1VWUe1DUSCkKx3HNzc3n5+dWq7USHKj8ZDYYDIuLixRFleuvRgEpp355edHpdEXtz6JU3KvTwcFBLperEAqB/z/15OsXofwFHbfG60qCdgAAAAAASUVORK5CYII=\"></div>"
      ],
      "text/plain": [
       "Sqrt[2]"
      ]
     },
     "execution_count": 33,
     "metadata": {
      "text/html": [],
      "text/plain": []
     },
     "output_type": "execute_result"
    }
   ],
   "source": [
    "Sqrt[2]"
   ]
  },
  {
   "cell_type": "code",
   "execution_count": 34,
   "metadata": {},
   "outputs": [
    {
     "data": {
      "text/html": [
       "<div><pre style=\"&#102;&#111;&#110;&#116;&#45;&#102;&#97;&#109;&#105;&#108;&#121;&#58;&#32;&#34;&#67;&#111;&#117;&#114;&#105;&#101;&#114;&#32;&#78;&#101;&#119;&#34;&#44;&#67;&#111;&#117;&#114;&#105;&#101;&#114;&#44;&#109;&#111;&#110;&#111;&#115;&#112;&#97;&#99;&#101;&#59;\">&#49;&#46;&#52;&#49;&#52;&#50;&#49;</pre></div>"
      ],
      "text/plain": [
       "1.41421"
      ]
     },
     "execution_count": 34,
     "metadata": {
      "text/html": [],
      "text/plain": []
     },
     "output_type": "execute_result"
    }
   ],
   "source": [
    "N[%]"
   ]
  },
  {
   "cell_type": "code",
   "execution_count": null,
   "metadata": {},
   "outputs": [],
   "source": []
  }
 ],
 "metadata": {
  "kernelspec": {
   "display_name": "Wolfram Language 12.1",
   "language": "Wolfram Language",
   "name": "wolframlanguage12.1"
  },
  "language_info": {
   "codemirror_mode": "mathematica",
   "file_extension": ".m",
   "mimetype": "application/vnd.wolfram.m",
   "name": "Wolfram Language",
   "pygments_lexer": "mathematica",
   "version": "12.0"
  }
 },
 "nbformat": 4,
 "nbformat_minor": 4
}
